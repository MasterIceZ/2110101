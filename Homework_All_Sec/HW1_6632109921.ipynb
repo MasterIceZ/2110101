{
  "cells": [
    {
      "cell_type": "markdown",
      "metadata": {
        "id": "YTDQanrJ86Vh"
      },
      "source": [
        "# HW1_Lines and More: การบ้านครั้งที่ 1 เรื่อง Lines and More\n",
        "\n",
        "\n",
        "**จุดมุ่งหมายของการบ้าน**\n",
        "1. เข้าใจและใช้งาน expression, list และ function ได้\n",
        "2. สร้างความคุ้นเคยกับการบันทึก ดาวน์โหลด และส่งการบ้าน\n",
        "3. เห็นความแตกต่างของการบ้านและ Grader\n",
        "4. ฝึกการปฏิบัติตามความต้องการของโปรแกรม\n",
        "\n",
        "**การส่งงาน**\n",
        "1. ให้แน่ใจว่า ไม่ดูโปรแกรมของคนอื่น\n",
        "2. ให้แน่ใจว่า ไม่ได้ให้คนอื่นดูโปรแกรมของตัวเอง\n",
        "3. ถ้าโปรแกรมการบ้านที่ส่งไปเหมือนของคนอื่น นิสิตจะได้ $0$ ในการบ้านครั้งนี้\n",
        "4. ส่งไฟล์ในรูปแบบ .ipynb ใน MyCourseVille (เลือก File->Download->Download .ipynb)\n",
        "5. ตั้งชื่อไฟล์เป็น HW1_XXXXXXXXX.ipynb เมื่อ XXXXXXXXXX คือ รหัสนิสิต\n",
        "6. กำหนดส่ง คือ ก่อน 23:59 น. ของอังคารที่ 22 สิงหาคม 2566\n",
        "\n",
        "**งานของคุณ**\n",
        "\n",
        "กำหนดให้มีการเก็บข้อมูลจุดทุกจุดบนระนาบสองมิติในลิสต์อันหนึ่ง เก็บคู่ลำดับของแต่ละจุดเรียงกันไป โดยมีรูปแบบเป็น\n",
        "\n",
        "$[x_0,y_0,x_1,y_1,x_2,y_2,\\dots,x_n,y_n]$\n",
        "\n",
        "ให้นิสิตเขียนฟังก์ชัน 5 ฟังก์ชัน ดังนี้\n",
        "1. `middle(points,i,j)` คืนพิกัด `(x, y)` ของจุดกึ่งกลางของจุด $x_i,y_i$ และ $x_j,y_j$ เป็นลิสต์ `[x, y]` โดย `x` และ `y` เป็นจำนวนจริง\n",
        "2. `frame(points,i,j)` คืนลิสต์ที่มีสมาชิก 4 ตัว เป็นข้อมูลของกรอบสี่เหลี่ยมที่เล็กที่สุดที่ครอบจุดสองจุดนี้ได้พอดี โดยสองตัวแรกเป็นพิกัด `(x, y)` ของจุดซ้ายบนของกรอบสี่เหลี่ยมนั้น และสองตัวหลังเป็นความกว้างและความสูงของกรอบสี่เหลี่ยมตามลำดับ\n",
        "3. `frame_area(points,i,j)` คืนพื้นที่ของกรอบสี่เหลี่ยมในข้อ 2 เป็นจำนวนจริง\n",
        "4. `distance(points,i,j)` คืนความยาวของส่วนของเส้นตรงที่มีจุดเริ่มต้นเป็น $x_i,y_i$ และมีจุดสิ้นสุดเป็น $x_j,y_j$ เป็นจำนวนจริง\n",
        "5. `intersection(points,p1,p2,p3,p4)` คืนพิกัด `(x,y)` ของจุดตัดของเส้นตรงที่มีจุดปลายเป็น `p1` และ `p2` กับเส้นตรงที่มีจุดปลายเป็น `p3` และ `p4` โดย `x` และ `y` เป็นจำนวนจริง กำหนดให้อินพุตของฟังก์ชันนี้มีจุดตัดและมีจุดตัดเพียงจุดเดียวเท่านั้น และจะไม่มีอินพุตที่มีเส้นตรงที่มีความชันเป็น $∞$\n",
        "\n",
        "**ข้อกำหนด**\n",
        "\n",
        "1. ห้ามใช้คำสั่ง `if`, `else`, `elif` โดยเด็ดขาด หากมีการใช้จะได้ 0 คะแนน\n",
        "2. อนุญาตให้ `import math` ได้เพียงไลบราลีเดียว ห้าม `import` ไลบราลีอื่นเข้ามาใช้\n",
        "3. ในกรณีที่มี error หรือโปรแกรมทำงานไม่ได้ จะได้ 0\n",
        "\n",
        "**ข้อแนะนำ**\n",
        "\n",
        "คำสั่ง `max()`, `min()` และ `abs()` มีประโยชน์มากในการบ้านนี้ และกรณีทดสอบที่ใช้ในการให้คะแนนอาจไม่ตรงกับตัวอย่างที่ให้ในการบ้านนี้"
      ]
    },
    {
      "cell_type": "markdown",
      "metadata": {
        "id": "RI7wGW8Jf5AR"
      },
      "source": [
        "**ตัวอย่าง**\n",
        "\n",
        "![](https://drive.google.com/uc?export=view&id=1QLVIzgDiBB5Pg3PXnI5xOGn97y_77mAq)\n",
        "\n",
        "จากรูป กำหนดให้\n",
        "\n",
        "```\n",
        "points=[1,1,2,2,3,3,4,5,7,8,1,5,3,1]\n",
        "```\n",
        "เมื่อเรียกใช้คำสั่ง\n",
        "```\n",
        "points=[1,1,2,2,3,3,4,5,7,8,1,5,3,1]\n",
        "print(frame(points,1,3))\n",
        "print(middle(points,0,2))\n",
        "print(frame_area(points,1,3))\n",
        "print(distance(points,1,2))\n",
        "print(intersection(points,5,6,1,2))\n",
        "```\n",
        "\n",
        "จะแสดงผลลัพธ์เป็น\n",
        "```\n",
        "[2, 5, 2, 3]\n",
        "[2.0, 2.0]\n",
        "6.0\n",
        "1.4142135623730951\n",
        "[2.3333333333333335, 2.333333333333333]\n",
        "```\n"
      ]
    },
    {
      "cell_type": "code",
      "execution_count": 3,
      "metadata": {
        "id": "RYvxFmzU86Vm"
      },
      "outputs": [],
      "source": [
        "# HW01 (ไม่ลบหรือแก้ไขบรรทัดนี้ หรือเพิ่มอะไรก่อนบรรทัดนี้ โดยเด็ดขาด)\n",
        "\n",
        "def getPoint(points, idx):\n",
        "  return [points[idx * 2], points[idx * 2 + 1]]\n",
        "\n",
        "def getSlope(a, b):\n",
        "  return (b[1] - a[1]) / (b[0] - a[0])\n",
        "\n",
        "def frame(points,i,j):\n",
        "\n",
        "  first_point = getPoint(points, i)\n",
        "  second_point = getPoint(points, j)\n",
        "\n",
        "  x = min(first_point[0], second_point[0])\n",
        "  y = max(first_point[1], second_point[1])\n",
        "\n",
        "  w = abs(first_point[0] - second_point[0])\n",
        "  h = abs(first_point[1] - second_point[1])\n",
        "\n",
        "  return [x,y,w,h] # เมื่อ x,y เป็นพิกัดของจุดบนซ้าย w,h เป็นความกว้างและความสูงของเฟรมตามลำดับ\n",
        "\n",
        "\n",
        "def middle(points,i,j):\n",
        "\n",
        "  first_point = getPoint(points, i)\n",
        "  second_point = getPoint(points, j)\n",
        "\n",
        "  return [abs(first_point[0] + second_point[0]) / 2, abs(first_point[1] + second_point[1]) / 2] # เมื่อ x,y เป็นพิกัดของจุดกึ่งกลางของจุด i,j ในลิสต์ points\n",
        "\n",
        "\n",
        "def frame_area(points,i,j):\n",
        "\n",
        "  frame_data = frame(points, i, j)\n",
        "\n",
        "  return float(frame_data[2] * frame_data[3]) # เมื่อ a เป็นพื้นที่ของเฟรม\n",
        "\n",
        "\n",
        "def distance(points,i,j):\n",
        "\n",
        "  first_point = getPoint(points, i)\n",
        "  second_point = getPoint(points, j)\n",
        "\n",
        "  return (abs(first_point[0] - second_point[0]) ** 2 + abs(first_point[1] - second_point[1]) ** 2)**0.5 # เมื่อ d เป็นระยะห่างระหว่างจุด i,j ในลิสต์ points\n",
        "\n",
        "\n",
        "def intersection(points,p1,p2,p3,p4):\n",
        "\n",
        "  # y = mx + c\n",
        "  # c = y - mx\n",
        "  # -mx + y - c = 0\n",
        "\n",
        "  l1_1 = getPoint(points, p1)\n",
        "  l1_2 = getPoint(points, p2)\n",
        "  m1 = getSlope(l1_1, l1_2)\n",
        "  l1 = [-m1, 1, -(l1_1[1] - m1 * l1_1[0])]\n",
        "\n",
        "  l2_1 = getPoint(points, p3)\n",
        "  l2_2 = getPoint(points, p4)\n",
        "  m2 = getSlope(l2_1, l2_2)\n",
        "  l2 = [-m2, 1, -(l2_1[1] - m2 * l2_1[0])]\n",
        "\n",
        "  x = (l1[1] * l2[2] - l2[1] * l1[2]) / (l1[0] * l2[1] - l2[0] * l1[1])\n",
        "  y = (l2[0] * l1[2] - l1[0] * l2[2]) / (l1[0] * l2[1] - l2[0] * l1[1])\n",
        "\n",
        "  return [x,y] # เมื่อ x,y เป็นพิกัดของจุดตัดของส่วนของเส้นตรง p1,p2 กับ p3,p4\n",
        "\n",
        "\n",
        "\n",
        "\n"
      ]
    },
    {
      "cell_type": "code",
      "execution_count": 4,
      "metadata": {
        "colab": {
          "base_uri": "https://localhost:8080/"
        },
        "id": "mqXueO9CUKBE",
        "outputId": "e3c020e7-c121-4778-917c-673ab6b0a5f1"
      },
      "outputs": [
        {
          "name": "stdout",
          "output_type": "stream",
          "text": [
            "[2, 5, 2, 3]\n",
            "[2.0, 2.0]\n",
            "6.0\n",
            "1.4142135623730951\n",
            "[2.3333333333333335, 2.3333333333333335]\n"
          ]
        }
      ],
      "source": [
        "points=[1,1,2,2,3,3,4,5,7,8,1,5,3,1]\n",
        "print(frame(points,1,3))\n",
        "print(middle(points,0,2))\n",
        "print(frame_area(points,1,3))\n",
        "print(distance(points,1,2))\n",
        "print(intersection(points,5,6,1,2))"
      ]
    }
  ],
  "metadata": {
    "colab": {
      "provenance": []
    },
    "kernelspec": {
      "display_name": "Python 3",
      "name": "python3"
    },
    "language_info": {
      "codemirror_mode": {
        "name": "ipython",
        "version": 3
      },
      "file_extension": ".py",
      "mimetype": "text/x-python",
      "name": "python",
      "nbconvert_exporter": "python",
      "pygments_lexer": "ipython3",
      "version": "3.11.3"
    }
  },
  "nbformat": 4,
  "nbformat_minor": 0
}
