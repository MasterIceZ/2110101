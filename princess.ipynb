{
 "cells": [
  {
   "cell_type": "markdown",
   "metadata": {},
   "source": [
    "# Generate Princess Walking Matrix"
   ]
  },
  {
   "cell_type": "code",
   "execution_count": 18,
   "metadata": {},
   "outputs": [
    {
     "name": "stdout",
     "output_type": "stream",
     "text": [
      "367\n"
     ]
    }
   ],
   "source": [
    "d = 6\n",
    "n = 2 * d - 4\n",
    "\n",
    "paths = list()\n",
    "\n",
    "def generate(l):\n",
    "  if len(l) == n:\n",
    "    paths.append(l)\n",
    "    return \n",
    "  if len(l) == 0:\n",
    "    for i in range(1, n + 1):\n",
    "      generate([i])\n",
    "  else:\n",
    "    if l[-1] - 1 >= 1:\n",
    "      generate(l + [l[-1] - 1])\n",
    "    if l[-1] + 1 <= d:\n",
    "      generate(l + [l[-1] + 1])\n",
    "\n",
    "generate([])\n",
    "\n",
    "print(len(paths))\n",
    "# print(paths)"
   ]
  },
  {
   "cell_type": "markdown",
   "metadata": {},
   "source": [
    "**Algorithm**\n",
    "\n",
    "Try [2, 3, 3, 2] for 4 doors"
   ]
  },
  {
   "cell_type": "code",
   "execution_count": 19,
   "metadata": {},
   "outputs": [
    {
     "name": "stdout",
     "output_type": "stream",
     "text": [
      "OK!\n"
     ]
    }
   ],
   "source": [
    "# for odd d\n",
    "algo = [2, 3, 4, 5, 5, 4, 3, 2]\n",
    "\n",
    "count_algo = len(algo)\n",
    "\n",
    "def tryThis(path):\n",
    "  found = False\n",
    "  for i in range(count_algo):\n",
    "    if path[i] == algo[i]:\n",
    "      found = True\n",
    "      break\n",
    "  return found\n",
    "\n",
    "found_not_ok = False\n",
    "for path in paths:\n",
    "  ok = tryThis(path)\n",
    "  if not ok:\n",
    "    found_not_ok = True\n",
    "    print(path)\n",
    "\n",
    "if found_not_ok:\n",
    "  print('Wrong')\n",
    "else:\n",
    "  print('OK!')"
   ]
  }
 ],
 "metadata": {
  "kernelspec": {
   "display_name": "Python 3",
   "language": "python",
   "name": "python3"
  },
  "language_info": {
   "codemirror_mode": {
    "name": "ipython",
    "version": 3
   },
   "file_extension": ".py",
   "mimetype": "text/x-python",
   "name": "python",
   "nbconvert_exporter": "python",
   "pygments_lexer": "ipython3",
   "version": "3.11.5"
  }
 },
 "nbformat": 4,
 "nbformat_minor": 2
}
